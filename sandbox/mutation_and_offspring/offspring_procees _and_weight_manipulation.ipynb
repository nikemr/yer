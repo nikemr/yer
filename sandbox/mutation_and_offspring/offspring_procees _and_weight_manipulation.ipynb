{
 "cells": [
  {
   "cell_type": "markdown",
   "metadata": {},
   "source": [
    "# Neural networks with PyTorch\n",
    "\n",
    "Deep learning networks tend to be massive with dozens or hundreds of layers, that's where the term \"deep\" comes from. You can build one of these deep networks using only weight matrices as we did in the previous notebook, but in general it's very cumbersome and difficult to implement. PyTorch has a nice module `nn` that provides a nice way to efficiently build large neural networks."
   ]
  },
  {
   "cell_type": "code",
   "execution_count": 26,
   "metadata": {},
   "outputs": [],
   "source": [
    "# Import necessary packages\n",
    "\n",
    "%matplotlib inline\n",
    "%config InlineBackend.figure_format = 'retina'\n",
    "\n",
    "import numpy as np\n",
    "import torch\n",
    "import helper\n",
    "import matplotlib.pyplot as plt"
   ]
  },
  {
   "cell_type": "markdown",
   "metadata": {},
   "source": [
    "\n",
    "Now we're going to build a larger network that can solve a (formerly) difficult problem, identifying text in an image. Here we'll use the MNIST dataset which consists of greyscale handwritten digits. Each image is 28x28 pixels, you can see a sample below\n",
    "\n",
    "<img src='assets/mnist.png'>\n",
    "\n",
    "Our goal is to build a neural network that can take one of these images and predict the digit in the image.\n",
    "\n",
    "First up, we need to get our dataset. This is provided through the `torchvision` package. The code below will download the MNIST dataset, then create training and test datasets for us. Don't worry too much about the details here, you'll learn more about this later."
   ]
  },
  {
   "cell_type": "code",
   "execution_count": 27,
   "metadata": {},
   "outputs": [],
   "source": [
    "### Run this cell\n",
    "\n",
    "from torchvision import datasets, transforms\n",
    "\n",
    "# Define a transform to normalize the data\n",
    "transform = transforms.Compose([transforms.ToTensor(),\n",
    "                              transforms.Normalize((0.5,), (0.5,)),\n",
    "                              ])\n",
    "# Download and load the training data\n",
    "trainset = datasets.MNIST('~/.pytorch/MNIST_data/', download=True, train=True, transform=transform)\n",
    "trainloader = torch.utils.data.DataLoader(trainset, batch_size=64, shuffle=True)"
   ]
  },
  {
   "cell_type": "markdown",
   "metadata": {},
   "source": [
    "We have the training data loaded into `trainloader` and we make that an iterator with `iter(trainloader)`. Later, we'll use this to loop through the dataset for training, like\n",
    "\n",
    "```python\n",
    "for image, label in trainloader:\n",
    "    ## do things with images and labels\n",
    "```\n",
    "\n",
    "You'll notice I created the `trainloader` with a batch size of 64, and `shuffle=True`. The batch size is the number of images we get in one iteration from the data loader and pass through our network, often called a *batch*. And `shuffle=True` tells it to shuffle the dataset every time we start going through the data loader again. But here I'm just grabbing the first batch so we can check out the data. We can see below that `images` is just a tensor with size `(64, 1, 28, 28)`. So, 64 images per batch, 1 color channel, and 28x28 images."
   ]
  },
  {
   "cell_type": "code",
   "execution_count": 28,
   "metadata": {},
   "outputs": [
    {
     "name": "stdout",
     "output_type": "stream",
     "text": [
      "<class 'torch.Tensor'>\n",
      "torch.Size([64, 1, 28, 28])\n",
      "torch.Size([64])\n"
     ]
    }
   ],
   "source": [
    "dataiter = iter(trainloader)\n",
    "images, labels = dataiter.next()\n",
    "print(type(images))\n",
    "print(images.shape)\n",
    "print(labels.shape)"
   ]
  },
  {
   "cell_type": "markdown",
   "metadata": {},
   "source": [
    "This is what one of the images looks like. "
   ]
  },
  {
   "cell_type": "code",
   "execution_count": 29,
   "metadata": {},
   "outputs": [
    {
     "data": {
      "image/png": "[encoded data removed]",
      "text/plain": [
       "<Figure size 432x288 with 1 Axes>"
      ]
     },
     "metadata": {
      "image/png": {
       "height": 248,
       "width": 251
      },
      "needs_background": "light"
     },
     "output_type": "display_data"
    }
   ],
   "source": [
    "plt.imshow(images[1].numpy().squeeze(), cmap='Greys_r');"
   ]
  },
  {
   "cell_type": "markdown",
   "metadata": {},
   "source": [
    "First, let's try to build a simple network for this dataset using weight matrices and matrix multiplications. Then, we'll see how to do it using PyTorch's `nn` module which provides a much more convenient and powerful method for defining network architectures.\n",
    "\n",
    "The networks you've seen so far are called *fully-connected* or *dense* networks. Each unit in one layer is connected to each unit in the next layer. In fully-connected networks, the input to each layer must be a one-dimensional vector (which can be stacked into a 2D tensor as a batch of multiple examples). However, our images are 28x28 2D tensors, so we need to convert them into 1D vectors. Thinking about sizes, we need to convert the batch of images with shape `(64, 1, 28, 28)` to a have a shape of `(64, 784)`, 784 is 28 times 28. This is typically called *flattening*, we flattened the 2D images into 1D vectors.\n",
    "\n",
    "Previously you built a network with one output unit. Here we need 10 output units, one for each digit. We want our network to predict the digit shown in an image, so what we'll do is calculate probabilities that the image is of any one digit or class. This ends up being a discrete probability distribution over the classes (digits) that tells us the most likely class for the image. That means we need 10 output units for the 10 classes (digits). We'll see how to convert the network output into a probability distribution next.\n",
    "\n",
    "> **Exercise:** Flatten the batch of images `images`. Then build a multi-layer network with 784 input units, 256 hidden units, and 10 output units using random tensors for the weights and biases. For now, use a sigmoid activation for the hidden layer. Leave the output layer without an activation, we'll add one that gives us a probability distribution next."
   ]
  },
  {
   "cell_type": "code",
   "execution_count": 30,
   "metadata": {},
   "outputs": [
    {
     "name": "stdout",
     "output_type": "stream",
     "text": [
      "torch.Size([784, 256])\n"
     ]
    }
   ],
   "source": [
    "## Solution\n",
    "def activation(x):\n",
    "    return 1/(1+torch.exp(-x))\n",
    "\n",
    "# Flatten the input images\n",
    "inputs = images.view(images.shape[0], -1)\n",
    "\n",
    "# Create parameters\n",
    "w1 = torch.randn(784, 256)\n",
    "b1 = torch.randn(256)\n",
    "\n",
    "w2 = torch.randn(256, 10)\n",
    "b2 = torch.randn(10)\n",
    "\n",
    "h = activation(torch.mm(inputs, w1) + b1)\n",
    "\n",
    "out = torch.mm(h, w2) + b2\n",
    "print(w1.shape)"
   ]
  },
  {
   "cell_type": "markdown",
   "metadata": {},
   "source": [
    "Now we have 10 outputs for our network. We want to pass in an image to our network and get out a probability distribution over the classes that tells us the likely class(es) the image belongs to. Something that looks like this:\n",
    "<img src='assets/image_distribution.png' width=500px>\n",
    "\n",
    "Here we see that the probability for each class is roughly the same. This is representing an untrained network, it hasn't seen any data yet so it just returns a uniform distribution with equal probabilities for each class.\n",
    "\n",
    "To calculate this probability distribution, we often use the [**softmax** function](https://en.wikipedia.org/wiki/Softmax_function). Mathematically this looks like\n",
    "\n",
    "$$\n",
    "\\Large \\sigma(x_i) = \\cfrac{e^{x_i}}{\\sum_k^K{e^{x_k}}}\n",
    "$$\n",
    "\n",
    "What this does is squish each input $x_i$ between 0 and 1 and normalizes the values to give you a proper probability distribution where the probabilites sum up to one.\n",
    "\n",
    "> **Exercise:** Implement a function `softmax` that performs the softmax calculation and returns probability distributions for each example in the batch. Note that you'll need to pay attention to the shapes when doing this. If you have a tensor `a` with shape `(64, 10)` and a tensor `b` with shape `(64,)`, doing `a/b` will give you an error because PyTorch will try to do the division across the columns (called broadcasting) but you'll get a size mismatch. The way to think about this is for each of the 64 examples, you only want to divide by one value, the sum in the denominator. So you need `b` to have a shape of `(64, 1)`. This way PyTorch will divide the 10 values in each row of `a` by the one value in each row of `b`. Pay attention to how you take the sum as well. You'll need to define the `dim` keyword in `torch.sum`. Setting `dim=0` takes the sum across the rows while `dim=1` takes the sum across the columns."
   ]
  },
  {
   "cell_type": "code",
   "execution_count": 31,
   "metadata": {},
   "outputs": [
    {
     "name": "stdout",
     "output_type": "stream",
     "text": [
      "torch.Size([64, 10])\n",
      "tensor([1.0000, 1.0000, 1.0000, 1.0000, 1.0000, 1.0000, 1.0000, 1.0000, 1.0000,\n",
      "        1.0000, 1.0000, 1.0000, 1.0000, 1.0000, 1.0000, 1.0000, 1.0000, 1.0000,\n",
      "        1.0000, 1.0000, 1.0000, 1.0000, 1.0000, 1.0000, 1.0000, 1.0000, 1.0000,\n",
      "        1.0000, 1.0000, 1.0000, 1.0000, 1.0000, 1.0000, 1.0000, 1.0000, 1.0000,\n",
      "        1.0000, 1.0000, 1.0000, 1.0000, 1.0000, 1.0000, 1.0000, 1.0000, 1.0000,\n",
      "        1.0000, 1.0000, 1.0000, 1.0000, 1.0000, 1.0000, 1.0000, 1.0000, 1.0000,\n",
      "        1.0000, 1.0000, 1.0000, 1.0000, 1.0000, 1.0000, 1.0000, 1.0000, 1.0000,\n",
      "        1.0000])\n"
     ]
    }
   ],
   "source": [
    "## Solution\n",
    "def softmax(x):\n",
    "    return torch.exp(x)/torch.sum(torch.exp(x), dim=1).view(-1, 1)\n",
    "\n",
    "probabilities = softmax(out)\n",
    "\n",
    "# Does it have the right shape? Should be (64, 10)\n",
    "print(probabilities.shape)\n",
    "# Does it sum to 1?\n",
    "print(probabilities.sum(dim=1))"
   ]
  },
  {
   "cell_type": "markdown",
   "metadata": {},
   "source": [
    "## Building networks with PyTorch\n",
    "\n",
    "PyTorch provides a module `nn` that makes building networks much simpler. Here I'll show you how to build the same one as above with 784 inputs, 256 hidden units, 10 output units and a softmax output."
   ]
  },
  {
   "cell_type": "code",
   "execution_count": 32,
   "metadata": {},
   "outputs": [],
   "source": [
    "from torch import nn"
   ]
  },
  {
   "cell_type": "code",
   "execution_count": 33,
   "metadata": {},
   "outputs": [],
   "source": [
    "class Network(nn.Module):\n",
    "    def __init__(self):\n",
    "        super().__init__()\n",
    "        \n",
    "        # Inputs to hidden layer linear transformation\n",
    "        self.hidden = nn.Linear(784, 256)\n",
    "        # Output layer, 10 units - one for each digit\n",
    "        self.output = nn.Linear(256, 10)\n",
    "        \n",
    "        # Define sigmoid activation and softmax output \n",
    "        self.sigmoid = nn.Sigmoid()\n",
    "        self.softmax = nn.Softmax(dim=1)\n",
    "        \n",
    "    def forward(self, x):\n",
    "        # Pass the input tensor through each of our operations\n",
    "        x = self.hidden(x)\n",
    "        x = self.sigmoid(x)\n",
    "        x = self.output(x)\n",
    "        x = self.softmax(x)\n",
    "        \n",
    "        return x"
   ]
  },
  {
   "cell_type": "markdown",
   "metadata": {},
   "source": [
    "Let's go through this bit by bit.\n",
    "\n",
    "```python\n",
    "class Network(nn.Module):\n",
    "```\n",
    "\n",
    "Here we're inheriting from `nn.Module`. Combined with `super().__init__()` this creates a class that tracks the architecture and provides a lot of useful methods and attributes. It is mandatory to inherit from `nn.Module` when you're creating a class for your network. The name of the class itself can be anything.\n",
    "\n",
    "```python\n",
    "self.hidden = nn.Linear(784, 256)\n",
    "```\n",
    "\n",
    "This line creates a module for a linear transformation, $x\\mathbf{W} + b$, with 784 inputs and 256 outputs and assigns it to `self.hidden`. The module automatically creates the weight and bias tensors which we'll use in the `forward` method. You can access the weight and bias tensors once the network (`net`) is created with `net.hidden.weight` and `net.hidden.bias`.\n",
    "\n",
    "```python\n",
    "self.output = nn.Linear(256, 10)\n",
    "```\n",
    "\n",
    "Similarly, this creates another linear transformation with 256 inputs and 10 outputs.\n",
    "\n",
    "```python\n",
    "self.sigmoid = nn.Sigmoid()\n",
    "self.softmax = nn.Softmax(dim=1)\n",
    "```\n",
    "\n",
    "Here I defined operations for the sigmoid activation and softmax output. Setting `dim=1` in `nn.Softmax(dim=1)` calculates softmax across the columns.\n",
    "\n",
    "```python\n",
    "def forward(self, x):\n",
    "```\n",
    "\n",
    "PyTorch networks created with `nn.Module` must have a `forward` method defined. It takes in a tensor `x` and passes it through the operations you defined in the `__init__` method.\n",
    "\n",
    "```python\n",
    "x = self.hidden(x)\n",
    "x = self.sigmoid(x)\n",
    "x = self.output(x)\n",
    "x = self.softmax(x)\n",
    "```\n",
    "\n",
    "Here the input tensor `x` is passed through each operation a reassigned to `x`. We can see that the input tensor goes through the hidden layer, then a sigmoid function, then the output layer, and finally the softmax function. It doesn't matter what you name the variables here, as long as the inputs and outputs of the operations match the network architecture you want to build. The order in which you define things in the `__init__` method doesn't matter, but you'll need to sequence the operations correctly in the `forward` method.\n",
    "\n",
    "Now we can create a `Network` object."
   ]
  },
  {
   "cell_type": "code",
   "execution_count": 34,
   "metadata": {},
   "outputs": [
    {
     "data": {
      "text/plain": [
       "Network(\n",
       "  (hidden): Linear(in_features=784, out_features=256, bias=True)\n",
       "  (output): Linear(in_features=256, out_features=10, bias=True)\n",
       "  (sigmoid): Sigmoid()\n",
       "  (softmax): Softmax()\n",
       ")"
      ]
     },
     "execution_count": 34,
     "metadata": {},
     "output_type": "execute_result"
    }
   ],
   "source": [
    "# Create the network and look at it's text representation\n",
    "model = Network()\n",
    "model"
   ]
  },
  {
   "cell_type": "markdown",
   "metadata": {},
   "source": [
    "You can define the network somewhat more concisely and clearly using the `torch.nn.functional` module. This is the most common way you'll see networks defined as many operations are simple element-wise functions. We normally import this module as `F`, `import torch.nn.functional as F`."
   ]
  },
  {
   "cell_type": "code",
   "execution_count": 36,
   "metadata": {},
   "outputs": [
    {
     "name": "stdout",
     "output_type": "stream",
     "text": [
      "torch.Size([256, 784])\n"
     ]
    }
   ],
   "source": [
    "print(model.hidden.weight.size())"
   ]
  },
  {
   "cell_type": "markdown",
   "metadata": {},
   "source": [
    "## Weights of the hidden layer"
   ]
  },
  {
   "cell_type": "code",
   "execution_count": 37,
   "metadata": {},
   "outputs": [
    {
     "name": "stdout",
     "output_type": "stream",
     "text": [
      "tensor([-0.0252, -0.0195,  0.0095,  0.0357,  0.0055, -0.0002,  0.0290, -0.0296,\n",
      "        -0.0098,  0.0165, -0.0249,  0.0181,  0.0032,  0.0111,  0.0250, -0.0032,\n",
      "         0.0228, -0.0033,  0.0157,  0.0120, -0.0053, -0.0019,  0.0237, -0.0275,\n",
      "        -0.0140, -0.0067,  0.0158, -0.0304, -0.0278,  0.0124,  0.0352,  0.0072,\n",
      "         0.0109,  0.0022,  0.0310, -0.0270, -0.0126,  0.0158,  0.0000, -0.0013,\n",
      "        -0.0295,  0.0345, -0.0166,  0.0244,  0.0159, -0.0176, -0.0103,  0.0177,\n",
      "         0.0278, -0.0226, -0.0018, -0.0115, -0.0100, -0.0105, -0.0031, -0.0078,\n",
      "        -0.0070, -0.0012, -0.0259,  0.0065, -0.0100, -0.0007, -0.0248, -0.0233,\n",
      "         0.0304, -0.0275, -0.0222, -0.0328, -0.0275, -0.0259,  0.0110, -0.0320,\n",
      "         0.0178, -0.0029,  0.0344, -0.0216, -0.0254, -0.0068, -0.0300,  0.0064,\n",
      "         0.0128,  0.0079,  0.0115,  0.0246, -0.0006,  0.0234,  0.0355,  0.0051,\n",
      "        -0.0188,  0.0028, -0.0197, -0.0094,  0.0237,  0.0101,  0.0144, -0.0139,\n",
      "         0.0018,  0.0034, -0.0068,  0.0329,  0.0093, -0.0081,  0.0213, -0.0016,\n",
      "        -0.0110,  0.0273, -0.0106,  0.0215, -0.0319, -0.0069, -0.0163, -0.0160,\n",
      "         0.0086,  0.0232,  0.0131,  0.0229, -0.0181, -0.0046,  0.0016, -0.0316,\n",
      "         0.0308,  0.0003, -0.0234, -0.0327, -0.0357, -0.0149,  0.0311,  0.0177,\n",
      "        -0.0124,  0.0279,  0.0297,  0.0025, -0.0147,  0.0200, -0.0212, -0.0096,\n",
      "        -0.0062, -0.0113, -0.0040,  0.0157, -0.0182, -0.0307, -0.0039,  0.0347,\n",
      "        -0.0061, -0.0281,  0.0045,  0.0198, -0.0330, -0.0246, -0.0334,  0.0138,\n",
      "        -0.0117, -0.0200,  0.0227, -0.0321, -0.0249,  0.0247, -0.0154, -0.0077,\n",
      "        -0.0146,  0.0274,  0.0353,  0.0074,  0.0033,  0.0246,  0.0103, -0.0138,\n",
      "         0.0046,  0.0263,  0.0255, -0.0253,  0.0256,  0.0028, -0.0034,  0.0218,\n",
      "         0.0317, -0.0259,  0.0108, -0.0047,  0.0042, -0.0289, -0.0257,  0.0249,\n",
      "         0.0013,  0.0032,  0.0212,  0.0346, -0.0235,  0.0217,  0.0153, -0.0030,\n",
      "        -0.0241, -0.0207, -0.0130,  0.0168,  0.0150, -0.0116, -0.0113,  0.0346,\n",
      "         0.0251,  0.0266,  0.0126, -0.0218, -0.0228,  0.0141, -0.0103,  0.0093,\n",
      "         0.0134,  0.0160,  0.0069, -0.0002, -0.0219, -0.0151,  0.0038,  0.0192,\n",
      "        -0.0048, -0.0057, -0.0038,  0.0073, -0.0305, -0.0202, -0.0220, -0.0318,\n",
      "        -0.0235,  0.0329,  0.0036,  0.0081, -0.0342, -0.0285,  0.0048,  0.0091,\n",
      "        -0.0169, -0.0227, -0.0076,  0.0257,  0.0066, -0.0303, -0.0239, -0.0078,\n",
      "        -0.0088, -0.0352, -0.0036, -0.0115,  0.0232,  0.0062, -0.0231, -0.0015,\n",
      "         0.0221, -0.0114, -0.0076,  0.0221, -0.0020,  0.0016, -0.0104, -0.0027,\n",
      "         0.0103, -0.0111,  0.0105, -0.0075,  0.0028, -0.0323, -0.0037, -0.0055,\n",
      "        -0.0342,  0.0117, -0.0028, -0.0311,  0.0296,  0.0204, -0.0219,  0.0155,\n",
      "        -0.0293,  0.0307, -0.0079, -0.0288, -0.0315,  0.0283, -0.0331,  0.0051,\n",
      "         0.0096, -0.0036, -0.0310, -0.0353,  0.0246, -0.0105, -0.0333,  0.0049,\n",
      "        -0.0077,  0.0124, -0.0034,  0.0177,  0.0185,  0.0156, -0.0078, -0.0126,\n",
      "         0.0139,  0.0047, -0.0210, -0.0000,  0.0210,  0.0267, -0.0292, -0.0196,\n",
      "        -0.0173, -0.0011,  0.0004, -0.0072,  0.0231,  0.0309,  0.0286,  0.0076,\n",
      "        -0.0302, -0.0024,  0.0014, -0.0142, -0.0317,  0.0126, -0.0221,  0.0239,\n",
      "         0.0067,  0.0067, -0.0244, -0.0115, -0.0259,  0.0027, -0.0158, -0.0196,\n",
      "        -0.0127, -0.0226, -0.0047,  0.0162,  0.0116,  0.0341, -0.0243, -0.0271,\n",
      "         0.0078, -0.0139, -0.0280,  0.0235, -0.0254, -0.0317, -0.0206, -0.0246,\n",
      "         0.0217,  0.0186,  0.0139,  0.0030,  0.0233, -0.0077, -0.0337, -0.0186,\n",
      "         0.0158, -0.0254, -0.0144,  0.0243,  0.0057, -0.0300,  0.0024, -0.0228,\n",
      "        -0.0013,  0.0019, -0.0278, -0.0302, -0.0109,  0.0288,  0.0109, -0.0181,\n",
      "         0.0180, -0.0312,  0.0109,  0.0254, -0.0239,  0.0169, -0.0178,  0.0210,\n",
      "         0.0049,  0.0288, -0.0277, -0.0295,  0.0134, -0.0278,  0.0329,  0.0056,\n",
      "         0.0011, -0.0244, -0.0048,  0.0300,  0.0120,  0.0332,  0.0199,  0.0235,\n",
      "        -0.0173,  0.0032,  0.0135, -0.0297,  0.0114,  0.0339,  0.0188, -0.0261,\n",
      "         0.0267, -0.0020,  0.0195, -0.0272,  0.0185, -0.0107,  0.0185,  0.0119,\n",
      "         0.0206, -0.0132, -0.0142,  0.0219, -0.0180, -0.0151,  0.0264, -0.0137,\n",
      "         0.0167, -0.0048, -0.0093,  0.0151,  0.0273, -0.0174, -0.0317,  0.0158,\n",
      "         0.0090,  0.0330, -0.0325,  0.0181,  0.0136,  0.0328, -0.0228, -0.0206,\n",
      "        -0.0283, -0.0056, -0.0146, -0.0256, -0.0076,  0.0112, -0.0257,  0.0078,\n",
      "         0.0154, -0.0010,  0.0065,  0.0026,  0.0013,  0.0150, -0.0269, -0.0228,\n",
      "         0.0087, -0.0261,  0.0286,  0.0342, -0.0100, -0.0107, -0.0228,  0.0109,\n",
      "        -0.0043, -0.0081,  0.0064, -0.0287,  0.0074,  0.0054, -0.0127, -0.0155,\n",
      "        -0.0203,  0.0125, -0.0309,  0.0160, -0.0091, -0.0056, -0.0338,  0.0052,\n",
      "         0.0048,  0.0011, -0.0109,  0.0122,  0.0100, -0.0031,  0.0200, -0.0018,\n",
      "         0.0151,  0.0278,  0.0204,  0.0284,  0.0264, -0.0159, -0.0039,  0.0077,\n",
      "        -0.0243,  0.0146, -0.0311, -0.0290, -0.0331, -0.0021,  0.0257, -0.0230,\n",
      "        -0.0220, -0.0221, -0.0183,  0.0236,  0.0204,  0.0275,  0.0135,  0.0290,\n",
      "         0.0150,  0.0246,  0.0114, -0.0292, -0.0203, -0.0235, -0.0067,  0.0214,\n",
      "        -0.0237,  0.0111,  0.0056, -0.0045,  0.0176, -0.0073, -0.0190, -0.0258,\n",
      "        -0.0066,  0.0189, -0.0284, -0.0185,  0.0330,  0.0130,  0.0084, -0.0019,\n",
      "         0.0316, -0.0208,  0.0065,  0.0250, -0.0210,  0.0340, -0.0119, -0.0285,\n",
      "        -0.0186,  0.0003,  0.0316, -0.0135, -0.0305, -0.0223, -0.0150,  0.0005,\n",
      "        -0.0209, -0.0150, -0.0310, -0.0196, -0.0168,  0.0197, -0.0181,  0.0322,\n",
      "         0.0277, -0.0045,  0.0100,  0.0175,  0.0176,  0.0070,  0.0145, -0.0112,\n",
      "        -0.0268, -0.0046,  0.0013,  0.0351, -0.0012, -0.0089, -0.0155, -0.0052,\n",
      "        -0.0254, -0.0171,  0.0300, -0.0292, -0.0040, -0.0307, -0.0094, -0.0314,\n",
      "         0.0320,  0.0304,  0.0066,  0.0110,  0.0175,  0.0228,  0.0229, -0.0300,\n",
      "         0.0164,  0.0127,  0.0080, -0.0268, -0.0115, -0.0198,  0.0216, -0.0067,\n",
      "        -0.0348,  0.0039,  0.0027, -0.0246, -0.0009, -0.0035, -0.0115, -0.0141,\n",
      "         0.0338,  0.0183,  0.0058,  0.0152,  0.0257, -0.0303, -0.0142, -0.0177,\n",
      "        -0.0100,  0.0276, -0.0308, -0.0044,  0.0307, -0.0319,  0.0220, -0.0029,\n",
      "        -0.0045, -0.0346,  0.0313, -0.0084, -0.0043, -0.0314,  0.0295,  0.0305,\n",
      "         0.0238,  0.0348, -0.0271, -0.0256,  0.0328,  0.0041,  0.0269, -0.0354,\n",
      "        -0.0027, -0.0294,  0.0064,  0.0083,  0.0316,  0.0295,  0.0354, -0.0066,\n",
      "        -0.0021,  0.0162,  0.0201, -0.0259,  0.0166, -0.0332, -0.0322,  0.0175,\n",
      "        -0.0277, -0.0042, -0.0262, -0.0106,  0.0221,  0.0094,  0.0118, -0.0174,\n",
      "        -0.0089,  0.0310, -0.0203,  0.0115, -0.0091,  0.0348, -0.0004,  0.0209,\n",
      "        -0.0347, -0.0104, -0.0328, -0.0207,  0.0201, -0.0098,  0.0266, -0.0103,\n",
      "        -0.0275,  0.0317,  0.0240, -0.0237,  0.0098,  0.0085,  0.0223,  0.0009,\n",
      "         0.0226, -0.0280,  0.0148,  0.0122, -0.0089,  0.0254,  0.0132,  0.0023,\n",
      "        -0.0030,  0.0032, -0.0114,  0.0013,  0.0081, -0.0058, -0.0067,  0.0124,\n",
      "        -0.0278,  0.0167, -0.0272,  0.0321,  0.0004,  0.0232, -0.0125, -0.0133,\n",
      "        -0.0062, -0.0129,  0.0121, -0.0196, -0.0144, -0.0239, -0.0183, -0.0318,\n",
      "         0.0025,  0.0070, -0.0136,  0.0305, -0.0150,  0.0048,  0.0133, -0.0271,\n",
      "         0.0237, -0.0042, -0.0294, -0.0270,  0.0040,  0.0010, -0.0135, -0.0214,\n",
      "         0.0080,  0.0217, -0.0290,  0.0234,  0.0342,  0.0033, -0.0093, -0.0057,\n",
      "         0.0347, -0.0065, -0.0164,  0.0079,  0.0232, -0.0147,  0.0280,  0.0137,\n",
      "        -0.0272,  0.0271,  0.0029,  0.0154,  0.0059,  0.0197, -0.0168,  0.0127,\n",
      "         0.0264, -0.0026, -0.0199, -0.0277, -0.0193,  0.0219,  0.0265, -0.0275,\n",
      "         0.0028,  0.0124, -0.0186, -0.0301,  0.0326, -0.0193,  0.0026, -0.0280,\n",
      "         0.0012,  0.0195, -0.0270, -0.0002,  0.0306,  0.0297,  0.0221,  0.0154,\n",
      "         0.0026,  0.0067,  0.0108, -0.0315, -0.0217,  0.0157, -0.0315, -0.0136],\n",
      "       grad_fn=<SelectBackward>)\n",
      "tensor(-0.0252, grad_fn=<SelectBackward>)\n"
     ]
    }
   ],
   "source": [
    "print(model.hidden.weight[0])\n",
    "print(model.hidden.weight[0][0])\n"
   ]
  },
  {
   "cell_type": "markdown",
   "metadata": {},
   "source": [
    "## It is possible to change weights in a tensor."
   ]
  },
  {
   "cell_type": "code",
   "execution_count": 11,
   "metadata": {},
   "outputs": [],
   "source": [
    "model.hidden.weight[0][0]=0.0001"
   ]
  },
  {
   "cell_type": "markdown",
   "metadata": {},
   "source": [
    "## First value at the first row now changed to 0.0001"
   ]
  },
  {
   "cell_type": "code",
   "execution_count": 12,
   "metadata": {},
   "outputs": [
    {
     "name": "stdout",
     "output_type": "stream",
     "text": [
      "tensor([ 1.0000e-04,  2.6355e-02, -2.6097e-02,  1.2019e-02,  2.7392e-02,\n",
      "         3.2840e-02, -5.6979e-03, -3.4679e-02,  1.3949e-02, -2.5266e-02,\n",
      "        -2.7852e-02, -1.5669e-02, -2.3959e-02,  1.2539e-02, -1.4163e-02,\n",
      "         2.5839e-02, -9.0094e-03, -2.6017e-02,  1.4281e-04,  6.7593e-03,\n",
      "        -1.0568e-02,  3.2047e-02,  1.7266e-03, -2.0370e-02, -1.9020e-02,\n",
      "         1.5808e-02,  1.0592e-02,  1.0012e-02,  3.5177e-02,  1.4245e-02,\n",
      "         1.1774e-02, -3.2030e-02,  9.0743e-03,  2.6579e-02, -1.6398e-02,\n",
      "         3.2913e-03, -2.0024e-02,  8.3625e-03,  1.5620e-02, -1.7626e-02,\n",
      "         1.9165e-03, -2.3930e-02,  1.6544e-02,  1.4000e-02,  2.5510e-02,\n",
      "         4.4978e-03,  2.0542e-03, -3.2487e-02,  1.3894e-03,  1.6523e-02,\n",
      "        -1.8869e-02,  2.1015e-02,  1.5852e-02,  1.4652e-02, -1.3453e-02,\n",
      "        -1.5014e-02,  3.0014e-02, -3.4157e-03, -2.2181e-02, -5.5343e-03,\n",
      "        -2.3948e-02, -3.4642e-02,  3.1114e-02, -1.5364e-02,  2.2439e-02,\n",
      "        -6.6518e-04, -8.4757e-03,  2.9109e-02,  1.9902e-02,  2.1576e-02,\n",
      "        -2.5460e-03, -2.8071e-02,  1.4578e-03,  4.3988e-03,  1.2891e-02,\n",
      "         2.0040e-02, -4.2712e-03, -2.0376e-02, -1.1720e-02,  1.0037e-02,\n",
      "         8.9928e-03, -3.2056e-02, -7.5225e-03,  3.2244e-02,  3.1207e-02,\n",
      "         2.6922e-02,  3.2443e-02, -1.2827e-02,  2.3024e-02,  3.4653e-02,\n",
      "         7.7313e-03,  3.0120e-02,  2.1888e-02,  1.0365e-02,  6.3370e-03,\n",
      "        -3.1872e-02,  3.2100e-02, -1.2958e-02, -1.1806e-02,  1.6860e-02,\n",
      "         3.4699e-02, -2.4974e-02,  4.5845e-03, -2.1395e-02, -3.0992e-02,\n",
      "        -3.4468e-02, -1.8752e-02, -2.5935e-02, -1.7861e-02, -1.9326e-02,\n",
      "        -2.3594e-02, -1.2404e-02, -2.1645e-02,  1.5744e-03, -1.8928e-02,\n",
      "         1.4303e-02, -3.3493e-02,  1.3677e-02,  1.5608e-02,  1.0020e-02,\n",
      "        -3.2225e-02, -9.6754e-03, -3.0962e-03, -4.3359e-03,  2.1876e-02,\n",
      "        -2.5617e-02,  1.1739e-02, -1.3534e-02,  2.6255e-02, -2.5253e-03,\n",
      "         3.4881e-02,  7.4036e-03,  1.2385e-03,  2.9530e-02,  8.3288e-03,\n",
      "        -1.5949e-02, -3.4503e-02, -2.3353e-02, -4.2120e-03, -3.4483e-02,\n",
      "         1.2333e-02,  3.1727e-02, -3.2343e-02,  3.1171e-02, -2.1560e-02,\n",
      "        -2.0471e-02, -2.9379e-02, -6.8586e-03,  7.2890e-03, -2.9426e-02,\n",
      "        -1.6757e-02, -2.5049e-02,  1.9666e-02, -2.4748e-02,  3.4406e-02,\n",
      "        -6.3727e-04,  2.2989e-02,  5.8214e-03,  3.1053e-02,  8.0030e-03,\n",
      "        -3.2290e-02,  1.1268e-03,  1.1663e-02,  1.2302e-02, -2.5135e-02,\n",
      "        -2.8696e-02,  8.6870e-03, -1.1588e-02, -3.4786e-02, -1.2183e-02,\n",
      "         1.3779e-02, -2.8126e-02, -3.5782e-03, -1.2663e-02,  1.4271e-02,\n",
      "         2.8712e-02,  3.4058e-03, -5.9529e-03,  2.6975e-02, -2.9980e-02,\n",
      "        -3.5087e-03,  3.1513e-02, -1.9130e-02, -1.6708e-03, -3.5092e-02,\n",
      "         2.9160e-02, -3.4225e-02, -2.1094e-02, -2.1309e-02, -3.0526e-02,\n",
      "         2.7001e-02,  3.3737e-02, -1.0751e-02,  3.4013e-02, -2.0275e-02,\n",
      "         1.7945e-02, -6.6891e-04, -6.1238e-03,  4.9417e-04,  4.2696e-03,\n",
      "         2.9115e-02, -1.0536e-02, -2.2607e-02, -2.0342e-02,  2.3569e-02,\n",
      "        -2.2883e-02, -3.0069e-02,  1.7294e-02, -2.3313e-02, -2.9278e-02,\n",
      "         3.0696e-06,  2.6556e-02, -2.0345e-02, -3.1130e-02,  2.5250e-02,\n",
      "         2.5178e-02, -1.1361e-02, -2.5543e-02,  7.6406e-05,  1.8649e-02,\n",
      "         2.2645e-02, -4.1958e-03, -1.4195e-02, -3.5127e-02,  1.5502e-02,\n",
      "        -2.1868e-02,  6.5635e-03,  1.0043e-02,  2.4841e-02, -9.3601e-04,\n",
      "         2.6825e-02, -2.5993e-02,  1.6053e-02,  3.0771e-03, -3.1584e-02,\n",
      "         9.2524e-03, -1.3223e-02,  1.6724e-02, -9.6440e-03,  2.4897e-02,\n",
      "        -1.3769e-02,  3.0007e-02,  3.4145e-02,  1.7151e-02, -1.9603e-02,\n",
      "         1.7278e-02, -9.2673e-03,  5.2165e-03, -1.5343e-02, -1.7595e-02,\n",
      "         1.0671e-02, -3.9105e-03,  3.0184e-02,  1.8973e-02, -2.5306e-02,\n",
      "         1.1495e-02,  2.6904e-02, -3.1467e-02,  8.4392e-03,  7.1847e-03,\n",
      "        -1.2127e-02, -2.1095e-02, -2.4072e-02,  1.2229e-02, -1.6835e-02,\n",
      "         3.3540e-02, -3.9136e-03, -1.9207e-02, -1.2748e-04, -1.1737e-03,\n",
      "         3.4333e-02,  3.4596e-02, -6.3866e-03,  2.1301e-02, -5.1811e-03,\n",
      "        -3.5299e-02, -2.6725e-02,  9.3736e-03,  7.3545e-03,  3.2655e-02,\n",
      "        -1.6813e-03,  3.5368e-03, -3.0234e-02, -3.2361e-02, -8.1967e-03,\n",
      "         7.7869e-03,  2.1813e-02, -3.3147e-02,  9.6229e-03,  3.1535e-02,\n",
      "        -1.4437e-03, -1.1789e-02,  7.6279e-03, -3.2094e-02, -1.4706e-02,\n",
      "        -2.5445e-02,  8.4866e-03, -2.3115e-02,  3.3764e-02, -1.7463e-02,\n",
      "        -1.2121e-02,  1.8248e-02, -3.2655e-02,  3.1036e-02, -3.0956e-02,\n",
      "         4.9092e-03,  2.8696e-03,  2.4127e-02,  1.6454e-02, -1.6891e-02,\n",
      "        -1.7024e-02,  8.1579e-03,  2.6611e-03, -1.8749e-02,  9.2282e-03,\n",
      "         1.6777e-02, -3.0099e-02, -1.7664e-02, -1.5705e-02, -1.1887e-02,\n",
      "         1.9112e-02,  3.5114e-02,  1.5572e-02,  5.9653e-03, -3.3727e-02,\n",
      "         4.7053e-03,  8.4100e-03,  2.7232e-02, -6.4704e-03, -2.4058e-02,\n",
      "        -1.6394e-02,  1.6296e-02, -7.7037e-04, -1.0832e-02,  9.5471e-03,\n",
      "         1.7260e-02, -5.9928e-03,  6.8140e-03, -3.1327e-02, -2.1528e-02,\n",
      "         3.5353e-02, -3.5444e-03,  2.0860e-02, -2.8185e-02, -4.2373e-04,\n",
      "        -1.1524e-02,  2.3253e-02,  3.7886e-03, -3.4270e-02,  1.3555e-02,\n",
      "        -1.6092e-02, -2.0592e-02,  2.8242e-02,  2.1199e-02,  2.4454e-02,\n",
      "         2.8112e-02,  9.2510e-03,  6.3176e-03,  5.1002e-03, -2.4233e-02,\n",
      "         8.3055e-03,  1.9463e-02,  2.0466e-02, -3.4170e-02, -1.1631e-02,\n",
      "        -1.0207e-02, -1.2932e-02,  2.1533e-02,  1.0141e-02,  3.3635e-02,\n",
      "         3.4682e-02,  1.7926e-02,  3.3214e-02, -8.1752e-03,  1.6539e-02,\n",
      "        -7.2201e-04,  2.0212e-02, -1.8559e-02,  2.3602e-02,  1.0570e-02,\n",
      "        -1.8586e-02,  2.8271e-02,  1.4895e-02,  3.1694e-02,  2.2264e-03,\n",
      "         1.7876e-02, -5.0190e-03, -2.1032e-02, -1.0738e-02, -2.6150e-02,\n",
      "         8.0704e-03,  2.0136e-02, -2.7201e-02,  2.1621e-02, -1.4244e-02,\n",
      "        -2.2403e-02,  9.8450e-03, -9.6530e-03, -3.3461e-02, -4.1859e-03,\n",
      "         1.5173e-02, -1.9794e-03,  1.3200e-02,  2.1183e-02, -1.5984e-03,\n",
      "         4.8638e-03,  2.7234e-02, -3.0907e-02,  1.7873e-02,  3.2483e-02,\n",
      "        -1.9455e-02,  2.0231e-02,  3.4371e-02,  3.1384e-02, -5.7555e-04,\n",
      "        -2.2755e-02, -1.9075e-02, -2.0907e-02,  1.7195e-02,  4.3180e-03,\n",
      "        -9.8050e-04, -1.9328e-02, -6.5417e-03, -3.3811e-03,  1.3174e-02,\n",
      "         6.8663e-03,  2.4232e-02,  8.7177e-03, -1.8773e-03, -3.5153e-02,\n",
      "         2.0172e-03, -1.4847e-02, -3.0724e-03, -8.9659e-03,  3.6366e-03,\n",
      "        -1.2592e-02,  2.9301e-02,  2.1840e-02, -1.0699e-02, -3.1987e-02,\n",
      "         1.1704e-02,  6.0378e-03, -1.8976e-02,  9.2330e-03,  1.4467e-02,\n",
      "        -6.4033e-03, -1.6327e-02,  3.0292e-02,  2.8777e-02, -1.5710e-02,\n",
      "         1.7137e-02, -2.4347e-03,  7.6363e-04,  3.3898e-02, -2.6931e-02,\n",
      "        -2.6055e-02, -2.1634e-02, -1.6908e-02,  3.3679e-02, -2.0050e-02,\n",
      "        -1.7587e-02, -3.7059e-04,  3.1064e-03,  1.7470e-02, -2.5113e-02,\n",
      "        -1.9847e-02,  4.4693e-03,  2.2726e-02, -3.0268e-02,  2.0612e-03,\n",
      "        -7.9391e-03, -5.7956e-03, -1.4012e-03,  1.5562e-02, -2.5074e-02,\n",
      "        -3.4285e-02,  3.2688e-02, -9.2629e-03, -2.9754e-02,  2.8320e-02,\n",
      "         8.8839e-03,  3.5531e-02,  3.0207e-02, -2.4878e-02, -1.1889e-02,\n",
      "         1.1267e-03, -2.4896e-03,  2.4574e-02,  1.0600e-02, -2.9561e-02,\n",
      "         1.5933e-02,  3.5300e-02, -2.8491e-02, -7.7601e-03,  5.3749e-03,\n",
      "         5.8775e-03,  1.5256e-02,  3.5001e-02, -2.4117e-02,  3.2001e-02,\n",
      "        -1.3701e-02, -3.4731e-02,  8.8021e-03,  1.9066e-02, -2.4367e-02,\n",
      "        -3.1916e-03,  2.2443e-02, -2.5081e-03,  2.8144e-02,  1.6036e-02,\n",
      "         2.7357e-02, -7.3760e-03, -1.1469e-02,  7.7396e-03, -2.1725e-02,\n",
      "        -3.0315e-02, -3.3873e-03, -2.5733e-02,  1.9999e-02,  1.4393e-02,\n",
      "        -1.7761e-02,  1.1825e-02, -3.3043e-02,  2.5673e-02,  1.3905e-02,\n",
      "        -1.7660e-02,  2.4377e-02,  3.1260e-02, -1.7550e-02, -2.7266e-02,\n",
      "        -1.5893e-02,  4.9100e-03, -1.4287e-02, -2.2500e-02, -2.7360e-02,\n",
      "        -1.5757e-02,  3.3245e-02,  1.3352e-02, -2.6648e-02,  3.0106e-02,\n",
      "        -2.1455e-03,  1.4536e-02, -3.5574e-02, -1.2106e-03, -1.7515e-02,\n",
      "         7.5799e-03,  1.3642e-02, -2.0919e-02, -1.1130e-02,  2.8720e-02,\n",
      "        -1.1946e-02,  2.3824e-02, -2.3141e-02, -2.2354e-02, -1.8708e-02,\n",
      "        -2.0199e-02, -5.0106e-03, -2.3573e-02, -2.7165e-02, -2.1504e-02,\n",
      "         1.4995e-02,  1.2430e-02, -1.2621e-02,  3.5435e-02,  1.5227e-02,\n",
      "        -3.1522e-02,  1.6509e-02,  1.6479e-02,  5.3843e-03,  2.1378e-02,\n",
      "        -2.7063e-02, -1.0575e-02, -3.4914e-02,  2.7029e-02, -3.0515e-02,\n",
      "        -3.4795e-02,  3.3531e-02, -7.2097e-03, -1.9801e-02, -8.3078e-03,\n",
      "        -4.7175e-03,  8.6565e-03,  2.6080e-02,  1.3746e-02,  3.1172e-02,\n",
      "         7.6424e-03, -4.4934e-03, -1.0581e-02, -2.7573e-02, -5.0462e-03,\n",
      "        -3.6235e-03, -1.9840e-02, -1.9103e-02, -3.5707e-02, -2.0835e-02,\n",
      "        -1.9097e-03, -3.2596e-02, -1.7291e-02,  9.3674e-03,  1.4217e-02,\n",
      "        -2.8030e-02,  3.0804e-02, -2.5291e-03,  5.2209e-03, -8.9777e-04,\n",
      "         1.4044e-02, -5.6914e-03, -1.3724e-02,  2.4371e-02, -1.4399e-02,\n",
      "        -1.7641e-02,  1.7442e-02,  1.3790e-02,  3.4323e-02,  1.6307e-02,\n",
      "        -1.1956e-02, -1.1294e-02, -2.4708e-02, -2.1790e-03, -1.2950e-02,\n",
      "        -3.8498e-03, -1.7172e-02, -9.5446e-04, -1.3769e-02,  1.7948e-02,\n",
      "        -1.2481e-02,  3.2821e-02,  2.8897e-02, -1.2748e-02,  2.3209e-03,\n",
      "         1.1835e-02, -2.2800e-03,  2.7290e-02,  2.8999e-02, -1.2152e-02,\n",
      "         1.7733e-02, -8.6021e-03,  8.9187e-03,  1.0970e-02, -3.2829e-02,\n",
      "        -2.1591e-02, -6.3634e-03,  2.5256e-02, -3.2246e-02,  2.7560e-02,\n",
      "        -3.2175e-02, -2.0686e-02,  1.6588e-02,  5.0695e-03, -3.5161e-02,\n",
      "        -2.2659e-02, -1.0524e-02, -2.0613e-02,  7.5405e-03, -9.7711e-03,\n",
      "         9.7274e-03, -5.3145e-03, -2.0336e-02,  6.9199e-03, -1.8946e-02,\n",
      "        -2.1858e-02,  1.6118e-02, -2.0863e-02,  9.7328e-03,  3.5186e-02,\n",
      "         3.0357e-02, -2.2468e-02, -1.1732e-02, -1.4918e-02,  1.4951e-02,\n",
      "         1.6008e-03,  1.4917e-02,  2.4395e-02, -2.2967e-02,  3.3930e-02,\n",
      "        -4.9366e-03, -5.6370e-03, -2.2031e-02, -3.3754e-02, -3.0473e-02,\n",
      "        -2.4799e-02,  1.3685e-02,  2.8042e-02, -8.6644e-03,  2.6043e-02,\n",
      "         6.4834e-03,  2.4860e-02,  1.0926e-02,  2.2605e-02,  8.6942e-03,\n",
      "         3.5230e-02,  2.4494e-02,  2.1178e-02,  2.9269e-02, -1.4337e-02,\n",
      "        -1.9271e-03, -2.2443e-02,  2.6587e-02, -1.7922e-02, -7.2209e-03,\n",
      "         2.3714e-02,  1.2750e-03, -2.2892e-02,  3.2576e-03,  2.1715e-02,\n",
      "        -1.5149e-02,  9.6146e-03, -1.3712e-02,  2.9152e-03, -2.0777e-02,\n",
      "         2.1732e-02,  2.3210e-02,  3.4636e-02,  1.3726e-02, -2.0136e-02,\n",
      "         2.9111e-02,  3.4615e-02, -2.1840e-02, -1.3722e-02, -3.0957e-02,\n",
      "        -4.5663e-03,  3.1646e-02,  6.0342e-03,  2.0688e-02,  3.2887e-02,\n",
      "         1.6556e-02, -3.4687e-02,  2.4986e-03, -3.4595e-02,  6.1072e-03,\n",
      "        -9.5388e-03, -9.7651e-03, -2.9683e-03, -3.1587e-02, -2.0742e-02,\n",
      "        -3.4351e-02,  1.5277e-02, -6.0755e-03, -3.5700e-02, -3.5704e-02,\n",
      "        -8.0298e-03, -1.2720e-02, -1.5463e-02,  3.1465e-02,  6.9056e-03,\n",
      "        -8.8879e-04,  2.7949e-02, -1.4969e-02,  4.5581e-03,  1.8990e-02,\n",
      "        -4.1587e-03, -2.1846e-02, -1.1246e-02,  1.8172e-02,  3.5606e-03,\n",
      "         2.2207e-03,  5.0502e-03,  1.1256e-02,  3.3578e-02,  1.2917e-02,\n",
      "         2.4381e-02, -3.3038e-02,  1.1242e-02,  3.0513e-02, -2.9413e-02,\n",
      "        -3.5188e-02,  6.5207e-03,  2.9138e-02, -1.6936e-02, -2.3774e-02,\n",
      "        -2.1630e-02,  3.3318e-02, -1.2391e-02,  8.0970e-03,  1.9236e-02,\n",
      "        -8.8597e-03,  9.0333e-03,  8.8410e-04, -2.5234e-02,  3.5446e-02,\n",
      "         2.6538e-02,  4.0237e-03, -3.4547e-02,  3.4941e-02],\n",
      "       grad_fn=<SelectBackward>)\n",
      "tensor([-0.0112, -0.0102,  0.0327, -0.0203, -0.0241,  0.0160,  0.0276,  0.0303,\n",
      "        -0.0311, -0.0070], grad_fn=<SliceBackward>)\n",
      "tensor([0.0002, 0.0002, 0.0002, 0.0002, 0.0002, 0.0002, 0.0002, 0.0002, 0.0002,\n",
      "        0.0002], grad_fn=<SliceBackward>)\n"
     ]
    }
   ],
   "source": [
    "print(model.hidden.weight[0])\n",
    "print(model.hidden.bias[0:10])\n",
    "model.hidden.bias[0:10]=0.0002\n",
    "print(model.hidden.bias[0:10])"
   ]
  },
  {
   "cell_type": "code",
   "execution_count": 13,
   "metadata": {},
   "outputs": [
    {
     "data": {
      "text/plain": [
       "<bound method Module.parameters of Network(\n",
       "  (hidden): Linear(in_features=784, out_features=256, bias=True)\n",
       "  (output): Linear(in_features=256, out_features=10, bias=True)\n",
       "  (sigmoid): Sigmoid()\n",
       "  (softmax): Softmax()\n",
       ")>"
      ]
     },
     "execution_count": 13,
     "metadata": {},
     "output_type": "execute_result"
    }
   ],
   "source": [
    "model.parameters"
   ]
  },
  {
   "cell_type": "code",
   "execution_count": 14,
   "metadata": {},
   "outputs": [],
   "source": [
    "import torch.nn.functional as F\n",
    "\n",
    "class Network(nn.Module):\n",
    "    def __init__(self):\n",
    "        super().__init__()\n",
    "        # Inputs to hidden layer linear transformation\n",
    "        self.hidden = nn.Linear(784, 256)\n",
    "        # Output layer, 10 units - one for each digit\n",
    "        self.output = nn.Linear(256, 10)\n",
    "        \n",
    "    def forward(self, x):\n",
    "        # Hidden layer with sigmoid activation\n",
    "        x = F.sigmoid(self.hidden(x))\n",
    "        # Output layer with softmax activation\n",
    "        x = F.softmax(self.output(x), dim=1)\n",
    "        \n",
    "        return x"
   ]
  },
  {
   "cell_type": "markdown",
   "metadata": {},
   "source": [
    "### Activation functions\n",
    "\n",
    "So far we've only been looking at the softmax activation, but in general any function can be used as an activation function. The only requirement is that for a network to approximate a non-linear function, the activation functions must be non-linear. Here are a few more examples of common activation functions: Tanh (hyperbolic tangent), and ReLU (rectified linear unit).\n",
    "\n",
    "<img src=\"assets/activation.png\" width=700px>\n",
    "\n",
    "In practice, the ReLU function is used almost exclusively as the activation function for hidden layers."
   ]
  },
  {
   "cell_type": "markdown",
   "metadata": {},
   "source": [
    "### Your Turn to Build a Network\n",
    "\n",
    "<img src=\"assets/mlp_mnist.png\" width=600px>\n",
    "\n",
    "> **Exercise:** Create a network with 784 input units, a hidden layer with 128 units and a ReLU activation, then a hidden layer with 64 units and a ReLU activation, and finally an output layer with a softmax activation as shown above. You can use a ReLU activation with the `nn.ReLU` module or `F.relu` function.\n",
    "\n",
    "It's good practice to name your layers by their type of network, for instance 'fc' to represent a fully-connected layer. As you code your solution, use `fc1`, `fc2`, and `fc3` as your layer names."
   ]
  },
  {
   "cell_type": "code",
   "execution_count": 15,
   "metadata": {
    "scrolled": true
   },
   "outputs": [
    {
     "data": {
      "text/plain": [
       "Network(\n",
       "  (fc1): Linear(in_features=784, out_features=128, bias=True)\n",
       "  (fc2): Linear(in_features=128, out_features=64, bias=True)\n",
       "  (fc3): Linear(in_features=64, out_features=10, bias=True)\n",
       ")"
      ]
     },
     "execution_count": 15,
     "metadata": {},
     "output_type": "execute_result"
    }
   ],
   "source": [
    "## Solution\n",
    "\n",
    "class Network(nn.Module):\n",
    "    def __init__(self):\n",
    "        super().__init__()\n",
    "        # Defining the layers, 128, 64, 10 units each\n",
    "        self.fc1 = nn.Linear(784, 128)\n",
    "        self.fc2 = nn.Linear(128, 64)\n",
    "        # Output layer, 10 units - one for each digit\n",
    "        self.fc3 = nn.Linear(64, 10)\n",
    "        \n",
    "    def forward(self, x):\n",
    "        ''' Forward pass through the network, returns the output logits '''\n",
    "        \n",
    "        x = self.fc1(x)\n",
    "        x = F.relu(x)\n",
    "        x = self.fc2(x)\n",
    "        x = F.relu(x)\n",
    "        x = self.fc3(x)\n",
    "        x = F.softmax(x, dim=1)\n",
    "        \n",
    "        return x\n",
    "\n",
    "model = Network()\n",
    "model"
   ]
  },
  {
   "cell_type": "markdown",
   "metadata": {},
   "source": [
    "### Initializing weights and biases\n",
    "\n",
    "The weights and such are automatically initialized for you, but it's possible to customize how they are initialized. The weights and biases are tensors attached to the layer you defined, you can get them with `model.fc1.weight` for instance."
   ]
  },
  {
   "cell_type": "code",
   "execution_count": 16,
   "metadata": {},
   "outputs": [
    {
     "name": "stdout",
     "output_type": "stream",
     "text": [
      "Parameter containing:\n",
      "tensor([[ 0.0328, -0.0283,  0.0012,  ...,  0.0143,  0.0145,  0.0192],\n",
      "        [-0.0106,  0.0238, -0.0152,  ..., -0.0132,  0.0225,  0.0024],\n",
      "        [ 0.0183,  0.0131,  0.0219,  ...,  0.0245, -0.0292, -0.0111],\n",
      "        ...,\n",
      "        [ 0.0190, -0.0350,  0.0305,  ..., -0.0074, -0.0227, -0.0064],\n",
      "        [ 0.0329,  0.0073,  0.0132,  ...,  0.0181,  0.0013, -0.0189],\n",
      "        [-0.0093, -0.0049,  0.0273,  ...,  0.0136, -0.0242,  0.0050]],\n",
      "       requires_grad=True)\n",
      "Parameter containing:\n",
      "tensor([ 0.0046,  0.0151, -0.0228,  0.0109,  0.0136,  0.0284,  0.0034,  0.0012,\n",
      "         0.0293, -0.0036, -0.0290, -0.0288, -0.0081,  0.0118, -0.0189, -0.0064,\n",
      "         0.0297, -0.0319,  0.0289,  0.0102,  0.0152,  0.0116,  0.0218,  0.0300,\n",
      "        -0.0268,  0.0347,  0.0289, -0.0069, -0.0020, -0.0318,  0.0177,  0.0042,\n",
      "         0.0334,  0.0035,  0.0236, -0.0099,  0.0260,  0.0356, -0.0135,  0.0181,\n",
      "         0.0068, -0.0337,  0.0219,  0.0152, -0.0012,  0.0052, -0.0342, -0.0145,\n",
      "         0.0147,  0.0088,  0.0230, -0.0041,  0.0094, -0.0171,  0.0027, -0.0183,\n",
      "         0.0051, -0.0040,  0.0143, -0.0209,  0.0216, -0.0044,  0.0113,  0.0019,\n",
      "         0.0001, -0.0221,  0.0163, -0.0149, -0.0095, -0.0113, -0.0209,  0.0065,\n",
      "         0.0198,  0.0187, -0.0108, -0.0272, -0.0089,  0.0331, -0.0149,  0.0195,\n",
      "        -0.0149,  0.0281, -0.0151, -0.0337,  0.0092, -0.0059, -0.0104,  0.0302,\n",
      "         0.0011,  0.0007, -0.0171,  0.0205,  0.0347,  0.0315,  0.0110, -0.0083,\n",
      "        -0.0315, -0.0047,  0.0172, -0.0072,  0.0180,  0.0172,  0.0051, -0.0231,\n",
      "         0.0298, -0.0107,  0.0321,  0.0066, -0.0190, -0.0131, -0.0340,  0.0208,\n",
      "         0.0233, -0.0074,  0.0093, -0.0318, -0.0059, -0.0117,  0.0251,  0.0271,\n",
      "        -0.0217, -0.0300,  0.0087,  0.0231, -0.0293,  0.0259,  0.0252,  0.0258],\n",
      "       requires_grad=True)\n"
     ]
    }
   ],
   "source": [
    "print(model.fc1.weight)\n",
    "print(model.fc1.bias)"
   ]
  },
  {
   "cell_type": "markdown",
   "metadata": {},
   "source": [
    "For custom initialization, we want to modify these tensors in place. These are actually autograd *Variables*, so we need to get back the actual tensors with `model.fc1.weight.data`. Once we have the tensors, we can fill them with zeros (for biases) or random normal values."
   ]
  },
  {
   "cell_type": "code",
   "execution_count": 17,
   "metadata": {},
   "outputs": [
    {
     "data": {
      "text/plain": [
       "tensor([0., 0., 0., 0., 0., 0., 0., 0., 0., 0., 0., 0., 0., 0., 0., 0., 0., 0.,\n",
       "        0., 0., 0., 0., 0., 0., 0., 0., 0., 0., 0., 0., 0., 0., 0., 0., 0., 0.,\n",
       "        0., 0., 0., 0., 0., 0., 0., 0., 0., 0., 0., 0., 0., 0., 0., 0., 0., 0.,\n",
       "        0., 0., 0., 0., 0., 0., 0., 0., 0., 0., 0., 0., 0., 0., 0., 0., 0., 0.,\n",
       "        0., 0., 0., 0., 0., 0., 0., 0., 0., 0., 0., 0., 0., 0., 0., 0., 0., 0.,\n",
       "        0., 0., 0., 0., 0., 0., 0., 0., 0., 0., 0., 0., 0., 0., 0., 0., 0., 0.,\n",
       "        0., 0., 0., 0., 0., 0., 0., 0., 0., 0., 0., 0., 0., 0., 0., 0., 0., 0.,\n",
       "        0., 0.])"
      ]
     },
     "execution_count": 17,
     "metadata": {},
     "output_type": "execute_result"
    }
   ],
   "source": [
    "# Set biases to all zeros\n",
    "model.fc1.bias.data.fill_(0)"
   ]
  },
  {
   "cell_type": "code",
   "execution_count": 18,
   "metadata": {},
   "outputs": [
    {
     "data": {
      "text/plain": [
       "tensor([[ 0.0101, -0.0023, -0.0009,  ..., -0.0091, -0.0151, -0.0088],\n",
       "        [ 0.0135, -0.0033,  0.0071,  ...,  0.0255, -0.0114, -0.0059],\n",
       "        [ 0.0138, -0.0006, -0.0182,  ..., -0.0035,  0.0003,  0.0094],\n",
       "        ...,\n",
       "        [ 0.0036,  0.0155,  0.0091,  ...,  0.0011, -0.0166, -0.0051],\n",
       "        [-0.0151,  0.0013,  0.0072,  ..., -0.0016,  0.0188,  0.0005],\n",
       "        [-0.0166, -0.0178, -0.0108,  ..., -0.0023,  0.0035, -0.0008]])"
      ]
     },
     "execution_count": 18,
     "metadata": {},
     "output_type": "execute_result"
    }
   ],
   "source": [
    "# sample from random normal with standard dev = 0.01\n",
    "model.fc1.weight.data.normal_(std=0.01)"
   ]
  },
  {
   "cell_type": "markdown",
   "metadata": {},
   "source": [
    "### Forward pass\n",
    "\n",
    "Now that we have a network, let's see what happens when we pass in an image."
   ]
  },
  {
   "cell_type": "code",
   "execution_count": 19,
   "metadata": {},
   "outputs": [
    {
     "data": {
      "image/png": "[encoded data removed]",
      "text/plain": [
       "<Figure size 432x648 with 2 Axes>"
      ]
     },
     "metadata": {
      "image/png": {
       "height": 235,
       "width": 424
      },
      "needs_background": "light"
     },
     "output_type": "display_data"
    }
   ],
   "source": [
    "# Grab some data \n",
    "dataiter = iter(trainloader)\n",
    "images, labels = dataiter.next()\n",
    "\n",
    "# Resize images into a 1D vector, new shape is (batch size, color channels, image pixels) \n",
    "images.resize_(64, 1, 784)\n",
    "# or images.resize_(images.shape[0], 1, 784) to automatically get batch size\n",
    "\n",
    "# Forward pass through the network\n",
    "img_idx = 0\n",
    "ps = model.forward(images[img_idx,:])\n",
    "\n",
    "img = images[img_idx]\n",
    "helper.view_classify(img.view(1, 28, 28), ps)"
   ]
  },
  {
   "cell_type": "markdown",
   "metadata": {},
   "source": [
    "As you can see above, our network has basically no idea what this digit is. It's because we haven't trained it yet, all the weights are random!\n",
    "\n",
    "### Using `nn.Sequential`\n",
    "\n",
    "PyTorch provides a convenient way to build networks like this where a tensor is passed sequentially through operations, `nn.Sequential` ([documentation](https://pytorch.org/docs/master/nn.html#torch.nn.Sequential)). Using this to build the equivalent network:"
   ]
  },
  {
   "cell_type": "code",
   "execution_count": 20,
   "metadata": {},
   "outputs": [
    {
     "name": "stdout",
     "output_type": "stream",
     "text": [
      "Sequential(\n",
      "  (0): Linear(in_features=784, out_features=128, bias=True)\n",
      "  (1): ReLU()\n",
      "  (2): Linear(in_features=128, out_features=64, bias=True)\n",
      "  (3): ReLU()\n",
      "  (4): Linear(in_features=64, out_features=10, bias=True)\n",
      "  (5): Softmax()\n",
      ")\n"
     ]
    },
    {
     "data": {
      "image/png": "[encoded data removed]",
      "text/plain": [
       "<Figure size 432x648 with 2 Axes>"
      ]
     },
     "metadata": {
      "image/png": {
       "height": 235,
       "width": 424
      },
      "needs_background": "light"
     },
     "output_type": "display_data"
    }
   ],
   "source": [
    "# Hyperparameters for our network\n",
    "input_size = 784\n",
    "hidden_sizes = [128, 64]\n",
    "output_size = 10\n",
    "\n",
    "# Build a feed-forward network\n",
    "model = nn.Sequential(nn.Linear(input_size, hidden_sizes[0]),\n",
    "                      nn.ReLU(),\n",
    "                      nn.Linear(hidden_sizes[0], hidden_sizes[1]),\n",
    "                      nn.ReLU(),\n",
    "                      nn.Linear(hidden_sizes[1], output_size),\n",
    "                      nn.Softmax(dim=1))\n",
    "print(model)\n",
    "\n",
    "# Forward pass through the network and display output\n",
    "images, labels = next(iter(trainloader))\n",
    "images.resize_(images.shape[0], 1, 784)\n",
    "ps = model.forward(images[0,:])\n",
    "helper.view_classify(images[0].view(1, 28, 28), ps)"
   ]
  },
  {
   "cell_type": "markdown",
   "metadata": {},
   "source": [
    "The operations are availble by passing in the appropriate index. For example, if you want to get first Linear operation and look at the weights, you'd use `model[0]`."
   ]
  },
  {
   "cell_type": "code",
   "execution_count": 21,
   "metadata": {},
   "outputs": [
    {
     "name": "stdout",
     "output_type": "stream",
     "text": [
      "Linear(in_features=784, out_features=128, bias=True)\n"
     ]
    },
    {
     "data": {
      "text/plain": [
       "Parameter containing:\n",
       "tensor([[ 0.0343, -0.0160, -0.0094,  ..., -0.0200,  0.0034,  0.0009],\n",
       "        [ 0.0166,  0.0333, -0.0095,  ..., -0.0350, -0.0298,  0.0161],\n",
       "        [ 0.0216,  0.0159, -0.0100,  ...,  0.0138,  0.0179,  0.0231],\n",
       "        ...,\n",
       "        [ 0.0095, -0.0294,  0.0212,  ...,  0.0346,  0.0285, -0.0114],\n",
       "        [ 0.0193, -0.0126, -0.0042,  ..., -0.0310,  0.0145, -0.0056],\n",
       "        [ 0.0286,  0.0044,  0.0192,  ..., -0.0237, -0.0242, -0.0152]],\n",
       "       requires_grad=True)"
      ]
     },
     "execution_count": 21,
     "metadata": {},
     "output_type": "execute_result"
    }
   ],
   "source": [
    "print(model[0])\n",
    "model[0].weight"
   ]
  },
  {
   "cell_type": "markdown",
   "metadata": {},
   "source": [
    "You can also pass in an `OrderedDict` to name the individual layers and operations, instead of using incremental integers. Note that dictionary keys must be unique, so _each operation must have a different name_."
   ]
  },
  {
   "cell_type": "code",
   "execution_count": 22,
   "metadata": {},
   "outputs": [
    {
     "data": {
      "text/plain": [
       "Sequential(\n",
       "  (fc1): Linear(in_features=784, out_features=128, bias=True)\n",
       "  (relu1): ReLU()\n",
       "  (fc2): Linear(in_features=128, out_features=64, bias=True)\n",
       "  (relu2): ReLU()\n",
       "  (output): Linear(in_features=64, out_features=10, bias=True)\n",
       "  (softmax): Softmax()\n",
       ")"
      ]
     },
     "execution_count": 22,
     "metadata": {},
     "output_type": "execute_result"
    }
   ],
   "source": [
    "from collections import OrderedDict\n",
    "model = nn.Sequential(OrderedDict([\n",
    "                      ('fc1', nn.Linear(input_size, hidden_sizes[0])),\n",
    "                      ('relu1', nn.ReLU()),\n",
    "                      ('fc2', nn.Linear(hidden_sizes[0], hidden_sizes[1])),\n",
    "                      ('relu2', nn.ReLU()),\n",
    "                      ('output', nn.Linear(hidden_sizes[1], output_size)),\n",
    "                      ('softmax', nn.Softmax(dim=1))]))\n",
    "model"
   ]
  },
  {
   "cell_type": "markdown",
   "metadata": {},
   "source": [
    "Now you can access layers either by integer or the name"
   ]
  },
  {
   "cell_type": "code",
   "execution_count": 23,
   "metadata": {},
   "outputs": [
    {
     "name": "stdout",
     "output_type": "stream",
     "text": [
      "Linear(in_features=784, out_features=128, bias=True)\n",
      "Linear(in_features=784, out_features=128, bias=True)\n"
     ]
    }
   ],
   "source": [
    "print(model[0])\n",
    "print(model.fc1)"
   ]
  },
  {
   "cell_type": "markdown",
   "metadata": {},
   "source": [
    "In the next notebook, we'll see how we can train a neural network to accuractly predict the numbers appearing in the MNIST images."
   ]
  }
 ],
 "metadata": {
  "kernelspec": {
   "display_name": "Python 3",
   "language": "python",
   "name": "python3"
  },
  "language_info": {
   "codemirror_mode": {
    "name": "ipython",
    "version": 3
   },
   "file_extension": ".py",
   "mimetype": "text/x-python",
   "name": "python",
   "nbconvert_exporter": "python",
   "pygments_lexer": "ipython3",
   "version": "3.6.9"
  }
 },
 "nbformat": 4,
 "nbformat_minor": 2
}
